{
 "cells": [
  {
   "cell_type": "code",
   "execution_count": 1,
   "metadata": {},
   "outputs": [],
   "source": [
    "import numpy as np\n",
    "import pandas as pd\n",
    "\n",
    "from collections import Counter"
   ]
  },
  {
   "cell_type": "code",
   "execution_count": 2,
   "metadata": {},
   "outputs": [
    {
     "name": "stdout",
     "output_type": "stream",
     "text": [
      "vocab size: 8\n"
     ]
    }
   ],
   "source": [
    "corpus = ['the quick brown fox jumps over the lazy dog'.split(' ')]\n",
    "\n",
    "words = Counter()\n",
    "for doc in corpus:\n",
    "    for word in doc:\n",
    "        words[word] += 1\n",
    "\n",
    "vocab_size = len(words)\n",
    "print(f'vocab size: {vocab_size}')\n",
    "\n",
    "word_to_ix, ix_to_word = {}, {}\n",
    "for ix, (word, _) in enumerate(words.most_common()):\n",
    "    word_to_ix[word] = ix\n",
    "    ix_to_word[ix] = word"
   ]
  },
  {
   "cell_type": "code",
   "execution_count": 3,
   "metadata": {},
   "outputs": [],
   "source": [
    "def softmax(arr):\n",
    "    arr = np.exp(arr - np.max(arr))\n",
    "    return arr / np.sum(arr)"
   ]
  },
  {
   "cell_type": "code",
   "execution_count": 4,
   "metadata": {},
   "outputs": [
    {
     "name": "stdout",
     "output_type": "stream",
     "text": [
      "0 [1, 2]\n"
     ]
    }
   ],
   "source": [
    "def data(corpus, window_size):\n",
    "    for doc in corpus:\n",
    "        size = len(doc)\n",
    "        for ix in range(size):\n",
    "            floor = max(0, ix-window_size)\n",
    "            ceil = min(size, ix+window_size+1)\n",
    "            \n",
    "            X = word_to_ix[doc[ix]]\n",
    "            y = []\n",
    "            for word in doc[floor:ix]:\n",
    "                y.append(word_to_ix[word])\n",
    "            for word in doc[ix+1:ceil]:\n",
    "                y.append(word_to_ix[word])\n",
    "            \n",
    "            yield X, y\n",
    "\n",
    "for X, y in data(corpus, 2):\n",
    "    print(X, y)\n",
    "    break"
   ]
  },
  {
   "cell_type": "code",
   "execution_count": 5,
   "metadata": {},
   "outputs": [
    {
     "name": "stdout",
     "output_type": "stream",
     "text": [
      "47.41546806410408\n",
      "43.385156057505796\n",
      "42.30235768641539\n",
      "41.83498249708473\n",
      "41.58653655221668\n",
      "41.4394613700056\n",
      "41.34647074863293\n",
      "41.28453773724881\n",
      "41.241316299007835\n",
      "41.209854144264696\n",
      "41.18609048863718\n",
      "41.167562615393805\n",
      "41.1527193211022\n",
      "41.14054806693887\n",
      "41.13036623605188\n",
      "41.1217002133683\n",
      "41.11421292100189\n",
      "41.10765898231263\n",
      "41.101856155173564\n",
      "41.09666663993935\n",
      "41.091984550681524\n",
      "41.08772733274043\n",
      "41.08382976662949\n",
      "41.080239703356895\n",
      "41.076914981496635\n",
      "41.07382116524366\n",
      "41.070929862143444\n",
      "41.06821745625064\n",
      "41.065664143116095\n",
      "41.063253186855576\n",
      "41.060970342546184\n",
      "41.05880340304191\n",
      "41.05674184037102\n",
      "41.054776519711766\n",
      "41.0528994695523\n",
      "41.051103695702395\n",
      "41.049383029795656\n",
      "41.047732005116856\n",
      "41.04614575422486\n",
      "41.04461992407361\n",
      "41.043150605265645\n",
      "41.04173427278696\n",
      "41.04036773611976\n",
      "41.039048097055336\n",
      "41.03777271386076\n",
      "41.036539170713574\n",
      "41.03534525152386\n",
      "41.03418891742601\n",
      "41.03306828735341\n",
      "41.031981621212395\n"
     ]
    }
   ],
   "source": [
    "np.random.seed(42)\n",
    "\n",
    "epochs = 5000\n",
    "h_size = 5\n",
    "window_size = 2\n",
    "\n",
    "learning_rate = 1e-2\n",
    "\n",
    "W1 = np.random.randn(vocab_size, h_size) * .5\n",
    "W2 = np.random.randn(h_size, vocab_size) * .5\n",
    "\n",
    "for epoch in range(epochs):\n",
    "    loss = 0\n",
    "    for X, labels in data(corpus, window_size):\n",
    "        h = W1[None, X]\n",
    "        u = np.dot(h, W2)\n",
    "        y = softmax(u)\n",
    "\n",
    "        loss += -np.sum([u[0, ix] for ix in labels])\n",
    "        loss += len(labels) * np.log(np.sum(np.exp(u)))\n",
    "\n",
    "        dy = np.copy(y) * len(labels)\n",
    "        for label in labels:\n",
    "            dy[0,label] -= 1\n",
    "\n",
    "        dW2 = np.dot(h.T, dy)\n",
    "        dW1 = np.dot(dy, W2.T)\n",
    "\n",
    "        W2 -= learning_rate * dW2\n",
    "        W1[None, X] -= learning_rate * dW1\n",
    "\n",
    "    if (epoch+1)%100==0:\n",
    "        print(loss)"
   ]
  },
  {
   "cell_type": "code",
   "execution_count": 6,
   "metadata": {},
   "outputs": [
    {
     "data": {
      "text/html": [
       "<div>\n",
       "<style>\n",
       "    .dataframe thead tr:only-child th {\n",
       "        text-align: right;\n",
       "    }\n",
       "\n",
       "    .dataframe thead th {\n",
       "        text-align: left;\n",
       "    }\n",
       "\n",
       "    .dataframe tbody tr th {\n",
       "        vertical-align: top;\n",
       "    }\n",
       "</style>\n",
       "<table border=\"1\" class=\"dataframe\">\n",
       "  <thead>\n",
       "    <tr style=\"text-align: right;\">\n",
       "      <th></th>\n",
       "      <th>the</th>\n",
       "      <th>quick</th>\n",
       "      <th>brown</th>\n",
       "      <th>fox</th>\n",
       "      <th>jumps</th>\n",
       "      <th>over</th>\n",
       "      <th>lazy</th>\n",
       "      <th>dog</th>\n",
       "    </tr>\n",
       "  </thead>\n",
       "  <tbody>\n",
       "    <tr>\n",
       "      <th>0</th>\n",
       "      <td>0.33306</td>\n",
       "      <td>0.000004</td>\n",
       "      <td>0.000584</td>\n",
       "      <td>0.000174</td>\n",
       "      <td>1.496310e-07</td>\n",
       "      <td>0.333118</td>\n",
       "      <td>0.000326</td>\n",
       "      <td>0.332734</td>\n",
       "    </tr>\n",
       "  </tbody>\n",
       "</table>\n",
       "</div>"
      ],
      "text/plain": [
       "       the     quick     brown       fox         jumps      over      lazy  \\\n",
       "0  0.33306  0.000004  0.000584  0.000174  1.496310e-07  0.333118  0.000326   \n",
       "\n",
       "        dog  \n",
       "0  0.332734  "
      ]
     },
     "execution_count": 6,
     "metadata": {},
     "output_type": "execute_result"
    }
   ],
   "source": [
    "cols = list(word_to_ix.keys())\n",
    "\n",
    "lazy = np.zeros((1, vocab_size))\n",
    "lazy[0, 6] = 1\n",
    "\n",
    "pd.DataFrame(softmax(np.dot(np.dot(lazy, W1), W2)), columns=cols)"
   ]
  }
 ],
 "metadata": {
  "kernelspec": {
   "display_name": "Python 3",
   "language": "python",
   "name": "python3"
  },
  "language_info": {
   "codemirror_mode": {
    "name": "ipython",
    "version": 3
   },
   "file_extension": ".py",
   "mimetype": "text/x-python",
   "name": "python",
   "nbconvert_exporter": "python",
   "pygments_lexer": "ipython3",
   "version": "3.6.5"
  }
 },
 "nbformat": 4,
 "nbformat_minor": 2
}
