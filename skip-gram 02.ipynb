{
 "cells": [
  {
   "cell_type": "markdown",
   "metadata": {},
   "source": [
    "###### source\n",
    "* http://mccormickml.com/2016/04/19/word2vec-tutorial-the-skip-gram-model/\n",
    "* http://www.claudiobellei.com/2018/01/07/backprop-word2vec-python/"
   ]
  },
  {
   "cell_type": "code",
   "execution_count": 3,
   "metadata": {},
   "outputs": [],
   "source": [
    "import numpy as np\n",
    "import pandas as pd\n",
    "\n",
    "from bs4 import BeautifulSoup\n",
    "\n",
    "import re\n",
    "from collections import Counter"
   ]
  },
  {
   "cell_type": "code",
   "execution_count": 4,
   "metadata": {},
   "outputs": [
    {
     "data": {
      "text/html": [
       "<div>\n",
       "<style>\n",
       "    .dataframe thead tr:only-child th {\n",
       "        text-align: right;\n",
       "    }\n",
       "\n",
       "    .dataframe thead th {\n",
       "        text-align: left;\n",
       "    }\n",
       "\n",
       "    .dataframe tbody tr th {\n",
       "        vertical-align: top;\n",
       "    }\n",
       "</style>\n",
       "<table border=\"1\" class=\"dataframe\">\n",
       "  <thead>\n",
       "    <tr style=\"text-align: right;\">\n",
       "      <th></th>\n",
       "      <th>review</th>\n",
       "    </tr>\n",
       "  </thead>\n",
       "  <tbody>\n",
       "    <tr>\n",
       "      <th>0</th>\n",
       "      <td>This is an example of why the majority of acti...</td>\n",
       "    </tr>\n",
       "    <tr>\n",
       "      <th>1</th>\n",
       "      <td>First of all I hate those moronic rappers, who...</td>\n",
       "    </tr>\n",
       "    <tr>\n",
       "      <th>2</th>\n",
       "      <td>Not even the Beatles could write songs everyon...</td>\n",
       "    </tr>\n",
       "    <tr>\n",
       "      <th>3</th>\n",
       "      <td>Brass pictures (movies is not a fitting word f...</td>\n",
       "    </tr>\n",
       "    <tr>\n",
       "      <th>4</th>\n",
       "      <td>A funny thing happened to me while watching \"M...</td>\n",
       "    </tr>\n",
       "  </tbody>\n",
       "</table>\n",
       "</div>"
      ],
      "text/plain": [
       "                                              review\n",
       "0  This is an example of why the majority of acti...\n",
       "1  First of all I hate those moronic rappers, who...\n",
       "2  Not even the Beatles could write songs everyon...\n",
       "3  Brass pictures (movies is not a fitting word f...\n",
       "4  A funny thing happened to me while watching \"M..."
      ]
     },
     "execution_count": 4,
     "metadata": {},
     "output_type": "execute_result"
    }
   ],
   "source": [
    "dataset = pd.read_csv('./datasets/imdb_master.csv', header=1, encoding='iso-8859-1', names=['id', 'type', 'review', 'label', 'file'])\n",
    "\n",
    "del dataset['id']\n",
    "del dataset['type']\n",
    "del dataset['label']\n",
    "del dataset['file']\n",
    "\n",
    "dataset = dataset.iloc[:100]\n",
    "dataset.head()"
   ]
  },
  {
   "cell_type": "markdown",
   "metadata": {},
   "source": [
    "#### few preprocessing stuffs"
   ]
  },
  {
   "cell_type": "code",
   "execution_count": 5,
   "metadata": {},
   "outputs": [],
   "source": [
    "def remove_html(s):\n",
    "    parser = BeautifulSoup(s, 'html5lib')\n",
    "    return parser.getText()"
   ]
  },
  {
   "cell_type": "code",
   "execution_count": 6,
   "metadata": {},
   "outputs": [],
   "source": [
    "def remove_punctuation(s):\n",
    "    return re.sub('[^a-zA-Z0-9]', ' ', s)"
   ]
  },
  {
   "cell_type": "code",
   "execution_count": 7,
   "metadata": {},
   "outputs": [],
   "source": [
    "dataset = dataset.applymap(lambda x:x.lower())\n",
    "dataset = dataset.applymap(remove_punctuation)\n",
    "dataset = dataset.applymap(remove_html)"
   ]
  },
  {
   "cell_type": "code",
   "execution_count": 8,
   "metadata": {},
   "outputs": [],
   "source": [
    "def softmax(arr):\n",
    "    arr = np.exp(arr - np.max(arr))\n",
    "    return arr / np.sum(arr)"
   ]
  },
  {
   "cell_type": "markdown",
   "metadata": {},
   "source": [
    "class Word2Vec(object):\n",
    "    \n",
    "    def __init__(self, vocab_size, h_size, w_size, seed=None):\n",
    "        self.h_size = h_size\n",
    "        self.w_size = w_size\n",
    "        self.vocab_size = vocab_size\n",
    "        \n",
    "        if seed:\n",
    "            np.random.seed(seed)\n",
    "        \n",
    "        self._build()\n",
    "    \n",
    "    def _build(self):\n",
    "        self.W = np.random.randn(self.vocab_size, self.h_size)\n",
    "    \n",
    "    def train(self, X, y):\n",
    "        pass\n",
    "    \n",
    "model = Word2Vec(10, 300, 2, 42)\n",
    "\n",
    "assert model.W.shape == (10, 300)\n",
    "\n",
    "model.train(['hello word! haha'])"
   ]
  },
  {
   "cell_type": "code",
   "execution_count": 17,
   "metadata": {},
   "outputs": [],
   "source": [
    "reviews = []\n",
    "for review in dataset[:100].review:\n",
    "    reviews.append([word for word in review.split(' ') if word])"
   ]
  },
  {
   "cell_type": "code",
   "execution_count": 18,
   "metadata": {},
   "outputs": [
    {
     "name": "stdout",
     "output_type": "stream",
     "text": [
      "Vocab size: 4147\n"
     ]
    },
    {
     "data": {
      "text/plain": [
       "[('the', 1316), ('a', 595), ('and', 568), ('of', 535), ('to', 499)]"
      ]
     },
     "execution_count": 18,
     "metadata": {},
     "output_type": "execute_result"
    }
   ],
   "source": [
    "words = Counter()\n",
    "for review in reviews:\n",
    "    for word in review:\n",
    "        words[word] += 1\n",
    "        \n",
    "vocab_size = len(words)\n",
    "print(f'Vocab size: {vocab_size}')\n",
    "\n",
    "word_to_ix, ix_to_word = {}, {}\n",
    "for ix, (word, _) in enumerate(words.most_common()):\n",
    "    word_to_ix[word] = ix\n",
    "    ix_to_word[ix] = word\n",
    "    \n",
    "words.most_common()[:5]"
   ]
  },
  {
   "cell_type": "code",
   "execution_count": 19,
   "metadata": {},
   "outputs": [],
   "source": [
    "def get_data(reviews, window_size):\n",
    "    for review in reviews:\n",
    "        size = len(review)\n",
    "        for ix in range(size):\n",
    "            floor = max(0, ix-window_size)\n",
    "            ceil = min(size, ix+window_size+1)\n",
    "            \n",
    "            X = word_to_ix[review[ix]]\n",
    "            y = []\n",
    "            for word in review[floor:ix]:\n",
    "                y.append(word_to_ix[word])\n",
    "            for word in review[ix+1:ceil]:\n",
    "                y.append(word_to_ix[word])\n",
    "            \n",
    "            yield X, y"
   ]
  },
  {
   "cell_type": "code",
   "execution_count": null,
   "metadata": {},
   "outputs": [
    {
     "name": "stdout",
     "output_type": "stream",
     "text": [
      "Epoch   5/100 - Loss: 5.0303e+05\n",
      "Epoch  10/100 - Loss: 4.9232e+05\n",
      "Epoch  15/100 - Loss: 4.8266e+05\n",
      "Epoch  20/100 - Loss: 4.7394e+05\n",
      "Epoch  25/100 - Loss: 4.661e+05\n",
      "Epoch  30/100 - Loss: 4.5909e+05\n",
      "Epoch  35/100 - Loss: 4.5285e+05\n",
      "Epoch  40/100 - Loss: 4.4733e+05\n",
      "Epoch  45/100 - Loss: 4.4245e+05\n",
      "Epoch  50/100 - Loss: 4.3815e+05\n",
      "Epoch  55/100 - Loss: 4.3436e+05\n",
      "Epoch  60/100 - Loss: 4.3102e+05\n",
      "Epoch  65/100 - Loss: 4.2807e+05\n",
      "Epoch  70/100 - Loss: 4.2546e+05\n",
      "Epoch  74/100 - Loss: 4.2359e+05"
     ]
    }
   ],
   "source": [
    "# np.random.seed(42)\n",
    "\n",
    "epochs = 100\n",
    "h_size = 30\n",
    "window_size = 2\n",
    "\n",
    "learning_rate = 1e-2\n",
    "\n",
    "# W1 = np.random.randn(vocab_size, h_size) * .5\n",
    "# W2 = np.random.randn(h_size, vocab_size) * .5\n",
    "\n",
    "for epoch in range(epochs):\n",
    "    loss = 0\n",
    "    for X, labels in get_data(reviews, window_size):\n",
    "        h = W1[None, X]\n",
    "        u = np.dot(h, W2)\n",
    "        y = softmax(u)\n",
    "        \n",
    "        loss += -np.sum([u[0, ix] for ix in labels])\n",
    "        loss += len(labels)*np.log(np.sum(np.exp(u)))\n",
    "        \n",
    "        dy = np.copy(y) * len(labels)\n",
    "        for label in labels:\n",
    "            dy[0, label] -= 1\n",
    "        \n",
    "        dW2 = np.dot(h.T, dy)\n",
    "        dW1 = np.dot(dy, W2.T)\n",
    "        \n",
    "        W2 -= learning_rate * dW2\n",
    "        W1[None, X] -= learning_rate * dW1\n",
    "    \n",
    "    print(f'\\rEpoch {epoch+1:3}/{epochs:3} - Loss: {loss:.5}', end='')\n",
    "    if (epoch+1) % 5 == 0:\n",
    "        print('')"
   ]
  }
 ],
 "metadata": {
  "kernelspec": {
   "display_name": "Python 3",
   "language": "python",
   "name": "python3"
  },
  "language_info": {
   "codemirror_mode": {
    "name": "ipython",
    "version": 3
   },
   "file_extension": ".py",
   "mimetype": "text/x-python",
   "name": "python",
   "nbconvert_exporter": "python",
   "pygments_lexer": "ipython3",
   "version": "3.6.3"
  }
 },
 "nbformat": 4,
 "nbformat_minor": 2
}
